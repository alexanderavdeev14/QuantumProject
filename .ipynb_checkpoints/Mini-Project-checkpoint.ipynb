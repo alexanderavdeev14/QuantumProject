{
 "cells": [
  {
   "cell_type": "markdown",
   "metadata": {},
   "source": [
    "### Half-Spin"
   ]
  },
  {
   "cell_type": "code",
   "execution_count": null,
   "metadata": {},
   "outputs": [],
   "source": [
    "from qutip import *\n",
    "import numpy as np\n",
    "import matplotlib.pyplot as plt\n",
    "from ipywidgets import interact\n",
    "import matplotlib.transforms as transforms"
   ]
  },
  {
   "cell_type": "code",
   "execution_count": null,
   "metadata": {},
   "outputs": [],
   "source": [
    "N = 2                            # Length of Hilbert Space\n",
    "tmin=0\n",
    "tmax=10\n",
    "psi0=basis(N,0)                  # Spin up\n",
    "psi1=basis(N,1)                  # Spin down\n",
    "psi2=psi0+psi1\n",
    "psi2=psi2.unit()                 #superposition of |0>+|1>\n",
    "psi3=psi0-psi1 \n",
    "psi3=psi3.unit()                 #superposition of |0>-|1>\n",
    "psi4=-psi0+psi1\n",
    "psi4=psi4.unit()                 #superposition of -|0>+|1>\n",
    "psi5=-psi0-psi1\n",
    "psi5=psi5.unit()                 #superposition of -|0>-|1>"
   ]
  },
  {
   "cell_type": "markdown",
   "metadata": {},
   "source": [
    "####  Only Dephasing"
   ]
  },
  {
   "cell_type": "code",
   "execution_count": null,
   "metadata": {},
   "outputs": [],
   "source": [
    "wl = 1                           # Angular frequency\n",
    "delta_w =0.05                  # Uncertainty\n",
    "H =wl*sigmaz()            # Hamiltonion magnetic field in the z direction\n",
    "C_ops = [np.sqrt(delta_w)*sigmaz()]      # Collapse Operator\n",
    "times = np.linspace(tmin,tmax,400)    # Time of measurement\n",
    "result = mesolve(H, psi2, times, C_ops)\n",
    "plt.figure()\n",
    "plt.subplot(211)\n",
    "plt.ylim(-0.5, 0.5)\n",
    "plt.xlim(tmin, tmax)\n",
    "plt.plot(times,0.5*np.exp(-2*delta_w*times), label=r'exp($check$)');\n",
    "plt.plot(times,np.real(expect(result.states, projection(2,1,0))), label=r'Re($\\rho_{12}$)');\n",
    "plt.plot(times,np.imag(expect(result.states, projection(2,1,0))), label=r'Im($\\rho_{12}$)' );\n",
    "plt.legend()\n",
    "plt.subplot(212)\n",
    "plt.ylim(-0.5, 0.5)\n",
    "plt.xlim(tmin, tmax)\n",
    "plt.plot(times,np.real(expect(result.states, projection(2,0,1))), label=r'Re($\\rho_{21}$)');\n",
    "plt.plot(times,np.imag(expect(result.states, projection(2,0,1))), label=r'Im($\\rho_{21}$)');\n",
    "plt.legend()"
   ]
  },
  {
   "cell_type": "code",
   "execution_count": null,
   "metadata": {
    "code_folding": []
   },
   "outputs": [],
   "source": [
    "wl = 1                           # Angular frequency\n",
    "delta_w = 0.15                   # Uncertainty\n",
    "H = wl* 0.5*sigmaz()             # Hamiltonion\n",
    "C_ops = [delta_w *sigmaz()]      # Collapse Operator\n",
    "\n",
    "def update_ang_freq(freq):\n",
    "    wl=freq\n",
    "    return(wl)\n",
    "\n",
    "def update_uncertainty(uncertainty,freq):\n",
    "#    wl=update_ang_freq(freq) \n",
    "    delta_w=uncertainty*wl\n",
    "    return(delta_w) \n",
    "\n",
    "def update_spin_up(up):      ## It Works :), it glitches at [ 0,0] which makes sense, sadly it start at [0,0]\n",
    "    psi_up= up*basis(N,0)\n",
    "    return(psi_up)\n",
    "\n",
    "\n",
    "def update_spin_down(down,up,uncertainty,freq):\n",
    "    psi_up=update_spin_up(up)\n",
    "    psi_total=down*basis(N,1)+psi_up \n",
    "    psi_total=psi_total.unit()\n",
    "    print(psi_total) \n",
    "    wl=update_ang_freq(freq) \n",
    "#   print(wl)\n",
    "    H = wl* 0.5*sigmaz()\n",
    "    delta_w=update_uncertainty(uncertainty,freq) \n",
    "#    print(delta_w)    \n",
    "    C_ops = [delta_w *sigmaz()] \n",
    "    result = mesolve(H, psi_total, times, C_ops)\n",
    "    plt.figure()\n",
    "    plt.subplot(211)\n",
    "    plt.ylim(-0.5, 0.5)\n",
    "    plt.xlim(tmin-1, tmax)\n",
    "    plt.plot(times,np.real(expect(result.states, projection(2,1,0))), label=r'Re($\\rho_{21}$)');\n",
    "    plt.plot(times,np.imag(expect(result.states, projection(2,1,0))), label=r'Im($\\rho_{12}$)' );\n",
    "    plt.legend()\n",
    "    plt.subplot(212)\n",
    "    plt.ylim(-0.5, 0.5)\n",
    "    plt.xlim(tmin-1, tmax)\n",
    "    plt.plot(times,np.real(expect(result.states, projection(2,0,1))), label=r'Re($\\rho_{21}$)');\n",
    "    plt.plot(times,np.imag(expect(result.states, projection(2,0,1))), label=r'Im($\\rho_{21}$)');\n",
    "    plt.legend() \n",
    "\n",
    "interact(update_spin_down,freq=(0,1,0.1),uncertainty=(0,1,0.01)  ,down=(-1,1,0.01), up=(-1,1,0.01));     "
   ]
  },
  {
   "cell_type": "markdown",
   "metadata": {},
   "source": [
    "#### Decay with dephasing"
   ]
  },
  {
   "cell_type": "code",
   "execution_count": null,
   "metadata": {},
   "outputs": [],
   "source": [
    "w = 1 \n",
    "H = 0.5 * w * sigmaz()\n",
    "gamma = 0.1 * wl\n",
    "C_ops = [np.sqrt(gamma) * sigmam()]\n",
    "result = mesolve(H, psi2, times, C_ops)\n",
    "plt.figure()\n",
    "plt.subplot(311)\n",
    "plt.ylim(-1, 1)\n",
    "plt.xlim(tmin-1, tmax)\n",
    "plt.plot(times,np.real(expect(result.states, projection(2,0,0))), label=r'$\\rho_{11}$');\n",
    "plt.plot(times,expect(result.states, projection(2,1,1)),          label=r'$\\rho_{22}$');\n",
    "plt.legend()\n",
    "plt.subplot(312)\n",
    "plt.ylim(-0.5, 0.5)\n",
    "plt.xlim(tmin-1, tmax)\n",
    "plt.plot(times,np.real(expect(result.states, projection(2,0,1))), label=r'Re($\\rho_{12}$');\n",
    "plt.plot(times,np.imag(expect(result.states, projection(2,0,1))), label=r'Im($\\rho_{12}$');\n",
    "plt.legend() \n",
    "plt.subplot(313)\n",
    "plt.ylim(-0.5, 0.5)\n",
    "plt.xlim(tmin-1, tmax)\n",
    "plt.plot(times,np.real(expect(result.states, projection(2,0,1))), label=r'Re($\\rho_{12}$');\n",
    "plt.plot(times,np.imag(expect(result.states, projection(2,1,0))), label=r'Im($\\rho_{21}$)');\n",
    "plt.legend() "
   ]
  },
  {
   "cell_type": "code",
   "execution_count": null,
   "metadata": {
    "code_folding": []
   },
   "outputs": [],
   "source": [
    "def update_spin_up(up):     \n",
    "   psi_up= up*basis(N,0)\n",
    "   return(psi_up)\n",
    "\n",
    "def update_spin_down(down,up):\n",
    "   psi_up=update_spin_up(up)\n",
    "   psi_total=down*basis(N,1)+psi_up \n",
    "   psi_total=psi_total.unit()\n",
    "   print(psi_total) \n",
    "   gamma = 0.1 * wl\n",
    "   C_ops = [np.sqrt(gamma) * sigmaz()]\n",
    "   result = mesolve(H, psi_total, times, C_ops)\n",
    "   plt.figure()\n",
    "   plt.subplot(311)\n",
    "   plt.plot(times,np.real(expect(result.states, projection(2,0,0))), label=r'$\\rho_{11}$');\n",
    "   plt.plot(times,expect(result.states, projection(2,1,1)),          label=r'$\\rho_{22}$');\n",
    "   plt.legend()\n",
    "   plt.subplot(312)\n",
    "   plt.plot(times,np.real(expect(result.states, projection(2,0,1))), label=r'Re($\\rho_{12}$');\n",
    "   plt.plot(times,np.imag(expect(result.states, projection(2,0,1))), label=r'Im($\\rho_{12}$');\n",
    "   plt.legend() \n",
    "   plt.subplot(313)\n",
    "   plt.plot(times,np.real(expect(result.states, projection(2,0,1))), label=r'Re($\\rho_{12}$');\n",
    "   plt.plot(times,np.imag(expect(result.states, projection(2,1,0))), label=r'Im($\\rho_{21}$)');\n",
    "   plt.legend() \n",
    "\n",
    "interact(update_spin_down,down=(-1,1,0.01), up=(-1,1,0.01));    "
   ]
  },
  {
   "cell_type": "markdown",
   "metadata": {},
   "source": [
    "####  Thermal Decoherence with dephasing"
   ]
  },
  {
   "cell_type": "code",
   "execution_count": null,
   "metadata": {},
   "outputs": [],
   "source": [
    "w = 1 \n",
    "H = 0.5 * w * sigmaz()\n",
    "gamma = 0.1 * wl\n",
    "\n",
    "kb=1.38e-23\n",
    "T=100\n",
    "nther=1/(np.exp(wl/kb*T)+1)\n",
    "C_ops = [np.sqrt(gamma*(1+nther)) * sigmam()]\n",
    "result = mesolve(H, psi2, times, C_ops)\n",
    "plt.figure()\n",
    "plt.subplot(311)\n",
    "plt.ylim(-1, 1)\n",
    "plt.xlim(tmin-1, tmax)\n",
    "plt.plot(times,np.real(expect(result.states, projection(2,0,0))), label=r'$\\rho_{11}$');\n",
    "plt.plot(times,expect(result.states, projection(2,1,1)),          label=r'$\\rho_{22}$');\n",
    "plt.legend()\n",
    "plt.subplot(312)\n",
    "plt.ylim(-0.5, 0.5)\n",
    "plt.xlim(tmin-1, tmax)\n",
    "plt.plot(times,np.real(expect(result.states, projection(2,0,1))), label=r'Re($\\rho_{12}$');\n",
    "plt.plot(times,np.imag(expect(result.states, projection(2,0,1))), label=r'Im($\\rho_{12}$');\n",
    "plt.legend() \n",
    "plt.subplot(313)\n",
    "plt.ylim(-0.5, 0.5)\n",
    "plt.xlim(tmin-1, tmax)\n",
    "plt.plot(times,np.real(expect(result.states, projection(2,0,1))), label=r'Re($\\rho_{12}$');\n",
    "plt.plot(times,np.imag(expect(result.states, projection(2,1,0))), label=r'Im($\\rho_{21}$)');\n",
    "plt.legend() "
   ]
  },
  {
   "cell_type": "code",
   "execution_count": null,
   "metadata": {},
   "outputs": [],
   "source": [
    "w = 1 \n",
    "H = 0.5 * w * sigmaz()\n",
    "gamma = 0.1 * wl\n",
    "\n",
    "kb=1.38e-23\n",
    "T=1000\n",
    "nther=1/(np.exp(wl/kb*T)-1)\n",
    "C_ops = [np.sqrt(gamma*(1+nther)) * sigmam() +np.sqrt(gamma*nther)*sigmap()]\n",
    "result = mesolve(H, psi2, times, C_ops)\n",
    "plt.figure()\n",
    "plt.subplot(311)\n",
    "plt.ylim(-1, 1)\n",
    "plt.xlim(tmin-1, tmax)\n",
    "plt.plot(times,np.real(expect(result.states, projection(2,0,0))), label=r'$\\rho_{11}$');\n",
    "plt.plot(times,expect(result.states, projection(2,1,1)),          label=r'$\\rho_{22}$');\n",
    "plt.legend()\n",
    "plt.subplot(312)\n",
    "plt.ylim(-0.5, 0.5)\n",
    "plt.xlim(tmin-1, tmax)\n",
    "plt.plot(times,np.real(expect(result.states, projection(2,0,1))), label=r'Re($\\rho_{12}$');\n",
    "plt.plot(times,np.imag(expect(result.states, projection(2,0,1))), label=r'Im($\\rho_{12}$');\n",
    "plt.legend() \n",
    "plt.subplot(313)\n",
    "plt.ylim(-0.5, 0.5)\n",
    "plt.xlim(tmin-1, tmax)\n",
    "plt.plot(times,np.real(expect(result.states, projection(2,0,1))), label=r'Re($\\rho_{12}$');\n",
    "plt.plot(times,np.imag(expect(result.states, projection(2,1,0))), label=r'Im($\\rho_{21}$)');\n",
    "plt.legend() "
   ]
  },
  {
   "cell_type": "markdown",
   "metadata": {},
   "source": [
    "### Harmonic Oscillator"
   ]
  },
  {
   "cell_type": "code",
   "execution_count": null,
   "metadata": {},
   "outputs": [],
   "source": [
    "projection(2,1,0)\n"
   ]
  },
  {
   "cell_type": "code",
   "execution_count": null,
   "metadata": {},
   "outputs": [],
   "source": []
  }
 ],
 "metadata": {
  "kernelspec": {
   "display_name": "Python 3",
   "language": "python",
   "name": "python3"
  },
  "language_info": {
   "codemirror_mode": {
    "name": "ipython",
    "version": 3
   },
   "file_extension": ".py",
   "mimetype": "text/x-python",
   "name": "python",
   "nbconvert_exporter": "python",
   "pygments_lexer": "ipython3",
   "version": "3.7.4"
  },
  "toc": {
   "base_numbering": 1,
   "nav_menu": {},
   "number_sections": true,
   "sideBar": true,
   "skip_h1_title": false,
   "title_cell": "Table of Contents",
   "title_sidebar": "Contents",
   "toc_cell": false,
   "toc_position": {},
   "toc_section_display": true,
   "toc_window_display": false
  }
 },
 "nbformat": 4,
 "nbformat_minor": 2
}
